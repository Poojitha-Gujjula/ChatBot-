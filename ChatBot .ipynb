{
 "cells": [
  {
   "cell_type": "code",
   "execution_count": 4,
   "id": "e8574b79",
   "metadata": {},
   "outputs": [
    {
     "name": "stdout",
     "output_type": "stream",
     "text": [
      "Requirement already satisfied: nltk in c:\\users\\pooji\\anaconda3\\lib\\site-packages (3.7)\n",
      "Requirement already satisfied: regex>=2021.8.3 in c:\\users\\pooji\\anaconda3\\lib\\site-packages (from nltk) (2022.3.15)\n",
      "Requirement already satisfied: joblib in c:\\users\\pooji\\anaconda3\\lib\\site-packages (from nltk) (1.2.0)\n",
      "Requirement already satisfied: tqdm in c:\\users\\pooji\\anaconda3\\lib\\site-packages (from nltk) (4.64.0)\n",
      "Requirement already satisfied: click in c:\\users\\pooji\\anaconda3\\lib\\site-packages (from nltk) (8.0.4)\n",
      "Requirement already satisfied: colorama in c:\\users\\pooji\\anaconda3\\lib\\site-packages (from click->nltk) (0.4.6)\n",
      "Note: you may need to restart the kernel to use updated packages.\n"
     ]
    },
    {
     "name": "stderr",
     "output_type": "stream",
     "text": [
      "WARNING: Ignoring invalid distribution -atplotlib (c:\\users\\pooji\\anaconda3\\lib\\site-packages)\n",
      "WARNING: Ignoring invalid distribution -atplotlib (c:\\users\\pooji\\anaconda3\\lib\\site-packages)\n",
      "WARNING: Ignoring invalid distribution -atplotlib (c:\\users\\pooji\\anaconda3\\lib\\site-packages)\n",
      "WARNING: Ignoring invalid distribution -atplotlib (c:\\users\\pooji\\anaconda3\\lib\\site-packages)\n",
      "WARNING: Ignoring invalid distribution -atplotlib (c:\\users\\pooji\\anaconda3\\lib\\site-packages)\n",
      "WARNING: Ignoring invalid distribution -atplotlib (c:\\users\\pooji\\anaconda3\\lib\\site-packages)\n"
     ]
    }
   ],
   "source": [
    "pip install nltk"
   ]
  },
  {
   "cell_type": "code",
   "execution_count": 5,
   "id": "434d8066",
   "metadata": {
    "scrolled": true
   },
   "outputs": [
    {
     "name": "stdout",
     "output_type": "stream",
     "text": [
      "Collecting newspaper3k\n",
      "  Downloading newspaper3k-0.2.8-py3-none-any.whl (211 kB)\n",
      "Collecting feedparser>=5.2.1\n",
      "  Downloading feedparser-6.0.11-py3-none-any.whl (81 kB)\n",
      "Requirement already satisfied: PyYAML>=3.11 in c:\\users\\pooji\\anaconda3\\lib\\site-packages (from newspaper3k) (6.0)\n",
      "Collecting feedfinder2>=0.0.4\n",
      "  Downloading feedfinder2-0.0.4.tar.gz (3.3 kB)\n",
      "Requirement already satisfied: tldextract>=2.0.1 in c:\\users\\pooji\\anaconda3\\lib\\site-packages (from newspaper3k) (3.2.0)\n",
      "Requirement already satisfied: nltk>=3.2.1 in c:\\users\\pooji\\anaconda3\\lib\\site-packages (from newspaper3k) (3.7)\n",
      "Collecting tinysegmenter==0.3\n",
      "  Downloading tinysegmenter-0.3.tar.gz (16 kB)\n",
      "Requirement already satisfied: python-dateutil>=2.5.3 in c:\\users\\pooji\\anaconda3\\lib\\site-packages (from newspaper3k) (2.8.2)\n",
      "Requirement already satisfied: beautifulsoup4>=4.4.1 in c:\\users\\pooji\\anaconda3\\lib\\site-packages (from newspaper3k) (4.11.1)\n",
      "Requirement already satisfied: cssselect>=0.9.2 in c:\\users\\pooji\\anaconda3\\lib\\site-packages (from newspaper3k) (1.2.0)\n",
      "Requirement already satisfied: lxml>=3.6.0 in c:\\users\\pooji\\anaconda3\\lib\\site-packages (from newspaper3k) (4.8.0)\n",
      "Requirement already satisfied: requests>=2.10.0 in c:\\users\\pooji\\anaconda3\\lib\\site-packages (from newspaper3k) (2.31.0)\n",
      "Collecting jieba3k>=0.35.1\n",
      "  Downloading jieba3k-0.35.1.zip (7.4 MB)\n",
      "Requirement already satisfied: Pillow>=3.3.0 in c:\\users\\pooji\\anaconda3\\lib\\site-packages (from newspaper3k) (9.0.1)\n",
      "Requirement already satisfied: soupsieve>1.2 in c:\\users\\pooji\\anaconda3\\lib\\site-packages (from beautifulsoup4>=4.4.1->newspaper3k) (2.3.1)\n",
      "Requirement already satisfied: six in c:\\users\\pooji\\anaconda3\\lib\\site-packages (from feedfinder2>=0.0.4->newspaper3k) (1.16.0)\n",
      "Collecting sgmllib3k\n",
      "  Downloading sgmllib3k-1.0.0.tar.gz (5.8 kB)\n",
      "Requirement already satisfied: click in c:\\users\\pooji\\anaconda3\\lib\\site-packages (from nltk>=3.2.1->newspaper3k) (8.0.4)\n",
      "Requirement already satisfied: regex>=2021.8.3 in c:\\users\\pooji\\anaconda3\\lib\\site-packages (from nltk>=3.2.1->newspaper3k) (2022.3.15)\n",
      "Requirement already satisfied: joblib in c:\\users\\pooji\\anaconda3\\lib\\site-packages (from nltk>=3.2.1->newspaper3k) (1.2.0)\n",
      "Requirement already satisfied: tqdm in c:\\users\\pooji\\anaconda3\\lib\\site-packages (from nltk>=3.2.1->newspaper3k) (4.64.0)\n",
      "Requirement already satisfied: charset-normalizer<4,>=2 in c:\\users\\pooji\\anaconda3\\lib\\site-packages (from requests>=2.10.0->newspaper3k) (2.0.4)\n",
      "Requirement already satisfied: urllib3<3,>=1.21.1 in c:\\users\\pooji\\anaconda3\\lib\\site-packages (from requests>=2.10.0->newspaper3k) (1.26.16)\n",
      "Requirement already satisfied: idna<4,>=2.5 in c:\\users\\pooji\\anaconda3\\lib\\site-packages (from requests>=2.10.0->newspaper3k) (3.4)\n",
      "Requirement already satisfied: certifi>=2017.4.17 in c:\\users\\pooji\\anaconda3\\lib\\site-packages (from requests>=2.10.0->newspaper3k) (2023.7.22)\n",
      "Requirement already satisfied: requests-file>=1.4 in c:\\users\\pooji\\anaconda3\\lib\\site-packages (from tldextract>=2.0.1->newspaper3k) (1.5.1)\n",
      "Requirement already satisfied: filelock>=3.0.8 in c:\\users\\pooji\\anaconda3\\lib\\site-packages (from tldextract>=2.0.1->newspaper3k) (3.6.0)\n",
      "Requirement already satisfied: colorama in c:\\users\\pooji\\anaconda3\\lib\\site-packages (from click->nltk>=3.2.1->newspaper3k) (0.4.6)\n",
      "Building wheels for collected packages: tinysegmenter, feedfinder2, jieba3k, sgmllib3k\n",
      "  Building wheel for tinysegmenter (setup.py): started\n",
      "  Building wheel for tinysegmenter (setup.py): finished with status 'done'\n",
      "  Created wheel for tinysegmenter: filename=tinysegmenter-0.3-py3-none-any.whl size=13540 sha256=d24d7e48b06a57dd430e10eef3c17f762008d6baa4402a3e1922a42357b35734\n",
      "  Stored in directory: c:\\users\\pooji\\appdata\\local\\pip\\cache\\wheels\\94\\ad\\df\\a2a01300cea47d5695f242f7e925a805970106fd9e4b151468\n",
      "  Building wheel for feedfinder2 (setup.py): started\n",
      "  Building wheel for feedfinder2 (setup.py): finished with status 'done'\n",
      "  Created wheel for feedfinder2: filename=feedfinder2-0.0.4-py3-none-any.whl size=3341 sha256=c87bc51e74322f5232895c145e51599bf9b447c7e7bb9dd2f15b61a56f8c1ab1\n",
      "  Stored in directory: c:\\users\\pooji\\appdata\\local\\pip\\cache\\wheels\\43\\4a\\c2\\61a371b2524ac90805391c660d8dc4505705297f25e2b85a5d\n",
      "  Building wheel for jieba3k (setup.py): started\n",
      "  Building wheel for jieba3k (setup.py): finished with status 'done'\n",
      "  Created wheel for jieba3k: filename=jieba3k-0.35.1-py3-none-any.whl size=7398381 sha256=df46047e88c50e9584dc3cb4a3f234ab23c8cd319cc446e9ed348e413bfd4d84\n",
      "  Stored in directory: c:\\users\\pooji\\appdata\\local\\pip\\cache\\wheels\\c2\\22\\59\\8214a8d6357e9f540ce1f37f9a4362b6156b4ca81b37f1945f\n",
      "  Building wheel for sgmllib3k (setup.py): started\n",
      "  Building wheel for sgmllib3k (setup.py): finished with status 'done'\n",
      "  Created wheel for sgmllib3k: filename=sgmllib3k-1.0.0-py3-none-any.whl size=6048 sha256=2c20b76a7d7b1dcba99d492bed72744b67650cedfe35d051ef0a1544e40068ff\n",
      "  Stored in directory: c:\\users\\pooji\\appdata\\local\\pip\\cache\\wheels\\65\\7a\\a7\\78c287f64e401255dff4c13fdbc672fed5efbfd21c530114e1\n",
      "Successfully built tinysegmenter feedfinder2 jieba3k sgmllib3k\n",
      "Installing collected packages: sgmllib3k, tinysegmenter, jieba3k, feedparser, feedfinder2, newspaper3k\n",
      "Successfully installed feedfinder2-0.0.4 feedparser-6.0.11 jieba3k-0.35.1 newspaper3k-0.2.8 sgmllib3k-1.0.0 tinysegmenter-0.3\n",
      "Note: you may need to restart the kernel to use updated packages.\n"
     ]
    },
    {
     "name": "stderr",
     "output_type": "stream",
     "text": [
      "WARNING: Ignoring invalid distribution -atplotlib (c:\\users\\pooji\\anaconda3\\lib\\site-packages)\n",
      "WARNING: Ignoring invalid distribution -atplotlib (c:\\users\\pooji\\anaconda3\\lib\\site-packages)\n",
      "WARNING: Ignoring invalid distribution -atplotlib (c:\\users\\pooji\\anaconda3\\lib\\site-packages)\n",
      "WARNING: Ignoring invalid distribution -atplotlib (c:\\users\\pooji\\anaconda3\\lib\\site-packages)\n",
      "WARNING: Ignoring invalid distribution -atplotlib (c:\\users\\pooji\\anaconda3\\lib\\site-packages)\n",
      "WARNING: Ignoring invalid distribution -atplotlib (c:\\users\\pooji\\anaconda3\\lib\\site-packages)\n",
      "WARNING: Ignoring invalid distribution -atplotlib (c:\\users\\pooji\\anaconda3\\lib\\site-packages)\n",
      "WARNING: Ignoring invalid distribution -atplotlib (c:\\users\\pooji\\anaconda3\\lib\\site-packages)\n",
      "WARNING: Ignoring invalid distribution -atplotlib (c:\\users\\pooji\\anaconda3\\lib\\site-packages)\n",
      "WARNING: Ignoring invalid distribution -atplotlib (c:\\users\\pooji\\anaconda3\\lib\\site-packages)\n",
      "WARNING: Ignoring invalid distribution -atplotlib (c:\\users\\pooji\\anaconda3\\lib\\site-packages)\n",
      "WARNING: Ignoring invalid distribution -atplotlib (c:\\users\\pooji\\anaconda3\\lib\\site-packages)\n"
     ]
    }
   ],
   "source": [
    "pip install newspaper3k"
   ]
  },
  {
   "cell_type": "code",
   "execution_count": 6,
   "id": "454dffc6",
   "metadata": {},
   "outputs": [],
   "source": [
    "#import the packages\n",
    "from newspaper import Article\n",
    "import random\n",
    "import string\n",
    "import numpy as np\n",
    "import warnings\n",
    "import nltk\n",
    "from sklearn.feature_extraction.text import TfidfVectorizer\n",
    "from sklearn.metrics.pairwise import cosine_similarity"
   ]
  },
  {
   "cell_type": "code",
   "execution_count": 7,
   "id": "3d2df752",
   "metadata": {},
   "outputs": [],
   "source": [
    "#ignore the warnings\n",
    "warnings.filterwarnings('ignore')"
   ]
  },
  {
   "cell_type": "code",
   "execution_count": 8,
   "id": "c06431a8",
   "metadata": {},
   "outputs": [
    {
     "data": {
      "text/plain": [
       "True"
      ]
     },
     "execution_count": 8,
     "metadata": {},
     "output_type": "execute_result"
    }
   ],
   "source": [
    "#download package from nltk\n",
    "nltk.download('punkt',quiet=True)\n",
    "nltk.download('wordnet',quiet=True)"
   ]
  },
  {
   "cell_type": "code",
   "execution_count": 9,
   "id": "fc0e5725",
   "metadata": {},
   "outputs": [
    {
     "name": "stdout",
     "output_type": "stream",
     "text": [
      "Bold new policies are needed to mobilize public funding for climate-change mitigation and adaptation, and there is a strong case for progressive taxes on carbon-intensive activities and extreme wealth. Such taxes would generate revenues, shape incentives, and uphold the principle of “common but differentiated responsibility.”\n",
      "\n",
      "PARIS – After years of avoiding any explicit mention of the primary cause of climate change, negotiators at the United Nations Climate Change Conference (COP28) in Dubai last year finally reached an agreement calling for a “transition away from fossil fuels.” But another uncomfortable question still looms large: How will that transition be financed? As Simon Stiell, the UN’s climate chief, recently observed, “it’s blazingly obvious that finance is the make-or-break factor in the world’s climate fight.”\n",
      "\n",
      "Climate finance will be the single most important issue both at COP29 in Azerbaijan this year and at COP30 in Brazil in 2025. Notwithstanding recent pledges of money for a new “loss and damage” fund to help developing countries deal with climate change, current financing falls far short of what is required. The European Union estimates that it must invest €1.5 trillion ($1.63 trillion) per year from 2031 to achieve net-zero emissions by 2050, and developing countries (excluding China) are expected to need $2.4 trillion per year by 2030. Brazil alone will have to find an additional $200 billion to reach its 2030 emissions-reduction goals.\n",
      "\n",
      "There are no simple solutions. The sluggish growth and tight monetary conditions following the pandemic mean that even rich countries are operating with limited fiscal headroom. While more private capital is needed everywhere, its role will be smaller in low- and middle-income countries, owing to the significant premiums they face when borrowing for green projects.\n",
      "\n",
      "Bold new policies are needed to mobilize public funding, and there is a strong case to be made for progressive taxes on carbon-intensive activities and extreme wealth. Both would generate revenues while also extending the principle of “common but differentiated responsibility” to industries and individuals.\n",
      "\n",
      "Taxation is the standard instrument for states to raise funds reliably and at scale, and thus to commit to long-term spending and investment plans. For developing countries, in particular, the predictability of taxes makes them more useful than concessional finance. Moreover, new taxes can unlock additional resources for countries to dedicate to climate-related investments, sparing them from having to reallocate scarce funding within existing budgets. Globally, a 0.1% financial-transactions tax could raise up to $418 billion per year, while a relatively modest levy of $5 per ton of carbon dioxide emissions could bring in $210 billion per year.\n",
      "\n",
      "The International Monetary Fund has long advocated taxes on CO 2 emissions and fossil-fuel extraction, both as a source of climate finance and to shape incentives by ensuring that polluters pay. The extra revenue from such taxes would help high-income countries (the leading historical source of emissions) fulfill their moral obligations toward poorer, more vulnerable countries. As matters stand, rich countries’ financial assistance for developing countries needs to be an order of magnitude greater than the current pledge of $100 billion per year.\n",
      "\n",
      "Subscribe to PS Digital Subscribe to PS Digital Access every new PS commentary, our entire On Point suite of subscriber-exclusive content – including Longer Reads, Insider Interviews, Big Picture/Big Question, and Say More – and the full PS archive. Subscribe Now\n",
      "\n",
      "Pollution taxes would also help to redress inequalities within countries. Even in those economies with lower historical and per capita emissions, there is a significant gap between most of the population’s emissions and the highest emitters. The economist Lucas Chancel finds that “carbon inequality” is greater within countries than between them, and that it tracks inequalities in income and wealth. This should come as no surprise. Globally, the wealthiest 1% emit the same as the poorest 66% combined.\n",
      "\n",
      "This injustice is not lost on ordinary citizens. In fact, it increasingly threatens our ability to build and sustain a political consensus for effective climate policies. Taxes to ensure that those with the greatest means and the highest emissions pay their fair share would go a long way toward convincing the public that a “just transition” is not just an empty slogan.\n",
      "\n",
      "But while the theoretical case for such taxes is strong, adoption and implementation has proven difficult. Capital, people (particularly the wealthy), and emissions all move easily across borders, undermining the efficacy of national or regional tax regimes. Though cross-border cooperation on taxation is never easy, an international agreement would give countries more leverage over their own resources, allowing them to protect those most in need. Multilateralism would be in every country’s interest.\n",
      "\n",
      "There are encouraging signs that the political taboo against taxation is weakening. The text agreed by all parties at COP28 explicitly called “for accelerating the ongoing establishment of new and innovative sources of finance, including taxation.” And last November, UN member states passed a resolution to establish a Framework Convention on International Tax Cooperation, paving the way for a fairer approach to setting global rules.\n",
      "\n",
      "Now, the G20, led by Brazil, is considering a global minimum tax on the world’s 3,000 billionaires, who currently pay a much lower effective tax rate than the rest of the population. The EU Tax Observatory estimates that a 2% annual levy on their wealth – if properly coordinated – could raise $250 billion per year.\n",
      "\n",
      "Capitalizing on this momentum, a diverse group of countries has launched a new international tax taskforce. Chaired jointly by the leaders of Kenya, Barbados, and France, its mandate is to explore tax policies that could raise the equivalent of at least 0.1% of global GDP to finance sustainable development and climate action. The point is not to prescribe a single solution for all countries, but rather to assess the political and technical obstacles to many plausible options, drawing on a diverse range of experts and perspectives.\n",
      "\n",
      "Many options are on the table, including taxes on aviation and shipping, in addition to fossil-fuel extraction and financial transactions. The taskforce will seek to advance our understanding of how such taxes could be applied equitably, perhaps paving the way for an agreement on particular policies.\n",
      "\n",
      "Fair taxation could be a powerful lever for accelerating a just transition. By contributing fresh empirical findings and fostering trust and cooperation between countries, the new taskforce can help everyone to address the injustices at the heart of the climate crisis and unlock the resources they need to address it. Reducing the burden on poorer people and countries is not just a moral obligation. It is also necessary to win their support for a transition that cannot happen without them.\n"
     ]
    }
   ],
   "source": [
    "#get article url\n",
    "article= Article('https://www.project-syndicate.org/commentary/tax-fossil-fuels-pollution-wealth-revenues-for-climate-change-just-transition-by-laurence-tubiana-2024-04')\n",
    "article.download()\n",
    "article.parse()\n",
    "article.nlp()\n",
    "corpus=article.text\n",
    "#print\n",
    "print(corpus)"
   ]
  },
  {
   "cell_type": "code",
   "execution_count": 11,
   "id": "771172f9",
   "metadata": {
    "collapsed": true
   },
   "outputs": [
    {
     "name": "stdout",
     "output_type": "stream",
     "text": [
      "['Bold new policies are needed to mobilize public funding for climate-change mitigation and adaptation, and there is a strong case for progressive taxes on carbon-intensive activities and extreme wealth.', 'Such taxes would generate revenues, shape incentives, and uphold the principle of “common but differentiated responsibility.”\\n\\nPARIS – After years of avoiding any explicit mention of the primary cause of climate change, negotiators at the United Nations Climate Change Conference (COP28) in Dubai last year finally reached an agreement calling for a “transition away from fossil fuels.” But another uncomfortable question still looms large: How will that transition be financed?', 'As Simon Stiell, the UN’s climate chief, recently observed, “it’s blazingly obvious that finance is the make-or-break factor in the world’s climate fight.”\\n\\nClimate finance will be the single most important issue both at COP29 in Azerbaijan this year and at COP30 in Brazil in 2025.', 'Notwithstanding recent pledges of money for a new “loss and damage” fund to help developing countries deal with climate change, current financing falls far short of what is required.', 'The European Union estimates that it must invest €1.5 trillion ($1.63 trillion) per year from 2031 to achieve net-zero emissions by 2050, and developing countries (excluding China) are expected to need $2.4 trillion per year by 2030.', 'Brazil alone will have to find an additional $200 billion to reach its 2030 emissions-reduction goals.', 'There are no simple solutions.', 'The sluggish growth and tight monetary conditions following the pandemic mean that even rich countries are operating with limited fiscal headroom.', 'While more private capital is needed everywhere, its role will be smaller in low- and middle-income countries, owing to the significant premiums they face when borrowing for green projects.', 'Bold new policies are needed to mobilize public funding, and there is a strong case to be made for progressive taxes on carbon-intensive activities and extreme wealth.', 'Both would generate revenues while also extending the principle of “common but differentiated responsibility” to industries and individuals.', 'Taxation is the standard instrument for states to raise funds reliably and at scale, and thus to commit to long-term spending and investment plans.', 'For developing countries, in particular, the predictability of taxes makes them more useful than concessional finance.', 'Moreover, new taxes can unlock additional resources for countries to dedicate to climate-related investments, sparing them from having to reallocate scarce funding within existing budgets.', 'Globally, a 0.1% financial-transactions tax could raise up to $418 billion per year, while a relatively modest levy of $5 per ton of carbon dioxide emissions could bring in $210 billion per year.', 'The International Monetary Fund has long advocated taxes on CO 2 emissions and fossil-fuel extraction, both as a source of climate finance and to shape incentives by ensuring that polluters pay.', 'The extra revenue from such taxes would help high-income countries (the leading historical source of emissions) fulfill their moral obligations toward poorer, more vulnerable countries.', 'As matters stand, rich countries’ financial assistance for developing countries needs to be an order of magnitude greater than the current pledge of $100 billion per year.', 'Subscribe to PS Digital Subscribe to PS Digital Access every new PS commentary, our entire On Point suite of subscriber-exclusive content – including Longer Reads, Insider Interviews, Big Picture/Big Question, and Say More – and the full PS archive.', 'Subscribe Now\\n\\nPollution taxes would also help to redress inequalities within countries.', 'Even in those economies with lower historical and per capita emissions, there is a significant gap between most of the population’s emissions and the highest emitters.', 'The economist Lucas Chancel finds that “carbon inequality” is greater within countries than between them, and that it tracks inequalities in income and wealth.', 'This should come as no surprise.', 'Globally, the wealthiest 1% emit the same as the poorest 66% combined.', 'This injustice is not lost on ordinary citizens.', 'In fact, it increasingly threatens our ability to build and sustain a political consensus for effective climate policies.', 'Taxes to ensure that those with the greatest means and the highest emissions pay their fair share would go a long way toward convincing the public that a “just transition” is not just an empty slogan.', 'But while the theoretical case for such taxes is strong, adoption and implementation has proven difficult.', 'Capital, people (particularly the wealthy), and emissions all move easily across borders, undermining the efficacy of national or regional tax regimes.', 'Though cross-border cooperation on taxation is never easy, an international agreement would give countries more leverage over their own resources, allowing them to protect those most in need.', 'Multilateralism would be in every country’s interest.', 'There are encouraging signs that the political taboo against taxation is weakening.', 'The text agreed by all parties at COP28 explicitly called “for accelerating the ongoing establishment of new and innovative sources of finance, including taxation.” And last November, UN member states passed a resolution to establish a Framework Convention on International Tax Cooperation, paving the way for a fairer approach to setting global rules.', 'Now, the G20, led by Brazil, is considering a global minimum tax on the world’s 3,000 billionaires, who currently pay a much lower effective tax rate than the rest of the population.', 'The EU Tax Observatory estimates that a 2% annual levy on their wealth – if properly coordinated – could raise $250 billion per year.', 'Capitalizing on this momentum, a diverse group of countries has launched a new international tax taskforce.', 'Chaired jointly by the leaders of Kenya, Barbados, and France, its mandate is to explore tax policies that could raise the equivalent of at least 0.1% of global GDP to finance sustainable development and climate action.', 'The point is not to prescribe a single solution for all countries, but rather to assess the political and technical obstacles to many plausible options, drawing on a diverse range of experts and perspectives.', 'Many options are on the table, including taxes on aviation and shipping, in addition to fossil-fuel extraction and financial transactions.', 'The taskforce will seek to advance our understanding of how such taxes could be applied equitably, perhaps paving the way for an agreement on particular policies.', 'Fair taxation could be a powerful lever for accelerating a just transition.', 'By contributing fresh empirical findings and fostering trust and cooperation between countries, the new taskforce can help everyone to address the injustices at the heart of the climate crisis and unlock the resources they need to address it.', 'Reducing the burden on poorer people and countries is not just a moral obligation.', 'It is also necessary to win their support for a transition that cannot happen without them.']\n"
     ]
    }
   ],
   "source": [
    "#tokenization\n",
    "text = corpus\n",
    "sent_tokens=nltk.sent_tokenize(text)\n",
    "print(sent_tokens)"
   ]
  },
  {
   "cell_type": "code",
   "execution_count": 13,
   "id": "588f93c1",
   "metadata": {},
   "outputs": [
    {
     "name": "stdout",
     "output_type": "stream",
     "text": [
      "!\"#$%&'()*+,-./:;<=>?@[\\]^_`{|}~\n",
      "{33: None, 34: None, 35: None, 36: None, 37: None, 38: None, 39: None, 40: None, 41: None, 42: None, 43: None, 44: None, 45: None, 46: None, 47: None, 58: None, 59: None, 60: None, 61: None, 62: None, 63: None, 64: None, 91: None, 92: None, 93: None, 94: None, 95: None, 96: None, 123: None, 124: None, 125: None, 126: None}\n"
     ]
    }
   ],
   "source": [
    "#creating a dictionary to remove the punctuation\n",
    "remove_punct_dict=dict((ord(punct),None) for punct in string.punctuation)\n",
    "print(string.punctuation)\n",
    "print(remove_punct_dict)"
   ]
  },
  {
   "cell_type": "code",
   "execution_count": 14,
   "id": "a03177fe",
   "metadata": {},
   "outputs": [
    {
     "name": "stdout",
     "output_type": "stream",
     "text": [
      "['bold', 'new', 'policies', 'are', 'needed', 'to', 'mobilize', 'public', 'funding', 'for', 'climatechange', 'mitigation', 'and', 'adaptation', 'and', 'there', 'is', 'a', 'strong', 'case', 'for', 'progressive', 'taxes', 'on', 'carbonintensive', 'activities', 'and', 'extreme', 'wealth', 'such', 'taxes', 'would', 'generate', 'revenues', 'shape', 'incentives', 'and', 'uphold', 'the', 'principle', 'of', '“', 'common', 'but', 'differentiated', 'responsibility', '”', 'paris', '–', 'after', 'years', 'of', 'avoiding', 'any', 'explicit', 'mention', 'of', 'the', 'primary', 'cause', 'of', 'climate', 'change', 'negotiators', 'at', 'the', 'united', 'nations', 'climate', 'change', 'conference', 'cop28', 'in', 'dubai', 'last', 'year', 'finally', 'reached', 'an', 'agreement', 'calling', 'for', 'a', '“', 'transition', 'away', 'from', 'fossil', 'fuels', '”', 'but', 'another', 'uncomfortable', 'question', 'still', 'looms', 'large', 'how', 'will', 'that', 'transition', 'be', 'financed', 'as', 'simon', 'stiell', 'the', 'un', '’', 's', 'climate', 'chief', 'recently', 'observed', '“', 'it', '’', 's', 'blazingly', 'obvious', 'that', 'finance', 'is', 'the', 'makeorbreak', 'factor', 'in', 'the', 'world', '’', 's', 'climate', 'fight', '”', 'climate', 'finance', 'will', 'be', 'the', 'single', 'most', 'important', 'issue', 'both', 'at', 'cop29', 'in', 'azerbaijan', 'this', 'year', 'and', 'at', 'cop30', 'in', 'brazil', 'in', '2025', 'notwithstanding', 'recent', 'pledges', 'of', 'money', 'for', 'a', 'new', '“', 'loss', 'and', 'damage', '”', 'fund', 'to', 'help', 'developing', 'countries', 'deal', 'with', 'climate', 'change', 'current', 'financing', 'falls', 'far', 'short', 'of', 'what', 'is', 'required', 'the', 'european', 'union', 'estimates', 'that', 'it', 'must', 'invest', '€15', 'trillion', '163', 'trillion', 'per', 'year', 'from', '2031', 'to', 'achieve', 'netzero', 'emissions', 'by', '2050', 'and', 'developing', 'countries', 'excluding', 'china', 'are', 'expected', 'to', 'need', '24', 'trillion', 'per', 'year', 'by', '2030', 'brazil', 'alone', 'will', 'have', 'to', 'find', 'an', 'additional', '200', 'billion', 'to', 'reach', 'its', '2030', 'emissionsreduction', 'goals', 'there', 'are', 'no', 'simple', 'solutions', 'the', 'sluggish', 'growth', 'and', 'tight', 'monetary', 'conditions', 'following', 'the', 'pandemic', 'mean', 'that', 'even', 'rich', 'countries', 'are', 'operating', 'with', 'limited', 'fiscal', 'headroom', 'while', 'more', 'private', 'capital', 'is', 'needed', 'everywhere', 'its', 'role', 'will', 'be', 'smaller', 'in', 'low', 'and', 'middleincome', 'countries', 'owing', 'to', 'the', 'significant', 'premiums', 'they', 'face', 'when', 'borrowing', 'for', 'green', 'projects', 'bold', 'new', 'policies', 'are', 'needed', 'to', 'mobilize', 'public', 'funding', 'and', 'there', 'is', 'a', 'strong', 'case', 'to', 'be', 'made', 'for', 'progressive', 'taxes', 'on', 'carbonintensive', 'activities', 'and', 'extreme', 'wealth', 'both', 'would', 'generate', 'revenues', 'while', 'also', 'extending', 'the', 'principle', 'of', '“', 'common', 'but', 'differentiated', 'responsibility', '”', 'to', 'industries', 'and', 'individuals', 'taxation', 'is', 'the', 'standard', 'instrument', 'for', 'states', 'to', 'raise', 'funds', 'reliably', 'and', 'at', 'scale', 'and', 'thus', 'to', 'commit', 'to', 'longterm', 'spending', 'and', 'investment', 'plans', 'for', 'developing', 'countries', 'in', 'particular', 'the', 'predictability', 'of', 'taxes', 'makes', 'them', 'more', 'useful', 'than', 'concessional', 'finance', 'moreover', 'new', 'taxes', 'can', 'unlock', 'additional', 'resources', 'for', 'countries', 'to', 'dedicate', 'to', 'climaterelated', 'investments', 'sparing', 'them', 'from', 'having', 'to', 'reallocate', 'scarce', 'funding', 'within', 'existing', 'budgets', 'globally', 'a', '01', 'financialtransactions', 'tax', 'could', 'raise', 'up', 'to', '418', 'billion', 'per', 'year', 'while', 'a', 'relatively', 'modest', 'levy', 'of', '5', 'per', 'ton', 'of', 'carbon', 'dioxide', 'emissions', 'could', 'bring', 'in', '210', 'billion', 'per', 'year', 'the', 'international', 'monetary', 'fund', 'has', 'long', 'advocated', 'taxes', 'on', 'co', '2', 'emissions', 'and', 'fossilfuel', 'extraction', 'both', 'as', 'a', 'source', 'of', 'climate', 'finance', 'and', 'to', 'shape', 'incentives', 'by', 'ensuring', 'that', 'polluters', 'pay', 'the', 'extra', 'revenue', 'from', 'such', 'taxes', 'would', 'help', 'highincome', 'countries', 'the', 'leading', 'historical', 'source', 'of', 'emissions', 'fulfill', 'their', 'moral', 'obligations', 'toward', 'poorer', 'more', 'vulnerable', 'countries', 'as', 'matters', 'stand', 'rich', 'countries', '’', 'financial', 'assistance', 'for', 'developing', 'countries', 'needs', 'to', 'be', 'an', 'order', 'of', 'magnitude', 'greater', 'than', 'the', 'current', 'pledge', 'of', '100', 'billion', 'per', 'year', 'subscribe', 'to', 'ps', 'digital', 'subscribe', 'to', 'ps', 'digital', 'access', 'every', 'new', 'ps', 'commentary', 'our', 'entire', 'on', 'point', 'suite', 'of', 'subscriberexclusive', 'content', '–', 'including', 'longer', 'reads', 'insider', 'interviews', 'big', 'picturebig', 'question', 'and', 'say', 'more', '–', 'and', 'the', 'full', 'ps', 'archive', 'subscribe', 'now', 'pollution', 'taxes', 'would', 'also', 'help', 'to', 'redress', 'inequalities', 'within', 'countries', 'even', 'in', 'those', 'economies', 'with', 'lower', 'historical', 'and', 'per', 'capita', 'emissions', 'there', 'is', 'a', 'significant', 'gap', 'between', 'most', 'of', 'the', 'population', '’', 's', 'emissions', 'and', 'the', 'highest', 'emitters', 'the', 'economist', 'lucas', 'chancel', 'finds', 'that', '“', 'carbon', 'inequality', '”', 'is', 'greater', 'within', 'countries', 'than', 'between', 'them', 'and', 'that', 'it', 'tracks', 'inequalities', 'in', 'income', 'and', 'wealth', 'this', 'should', 'come', 'as', 'no', 'surprise', 'globally', 'the', 'wealthiest', '1', 'emit', 'the', 'same', 'as', 'the', 'poorest', '66', 'combined', 'this', 'injustice', 'is', 'not', 'lost', 'on', 'ordinary', 'citizens', 'in', 'fact', 'it', 'increasingly', 'threatens', 'our', 'ability', 'to', 'build', 'and', 'sustain', 'a', 'political', 'consensus', 'for', 'effective', 'climate', 'policies', 'taxes', 'to', 'ensure', 'that', 'those', 'with', 'the', 'greatest', 'means', 'and', 'the', 'highest', 'emissions', 'pay', 'their', 'fair', 'share', 'would', 'go', 'a', 'long', 'way', 'toward', 'convincing', 'the', 'public', 'that', 'a', '“', 'just', 'transition', '”', 'is', 'not', 'just', 'an', 'empty', 'slogan', 'but', 'while', 'the', 'theoretical', 'case', 'for', 'such', 'taxes', 'is', 'strong', 'adoption', 'and', 'implementation', 'has', 'proven', 'difficult', 'capital', 'people', 'particularly', 'the', 'wealthy', 'and', 'emissions', 'all', 'move', 'easily', 'across', 'borders', 'undermining', 'the', 'efficacy', 'of', 'national', 'or', 'regional', 'tax', 'regimes', 'though', 'crossborder', 'cooperation', 'on', 'taxation', 'is', 'never', 'easy', 'an', 'international', 'agreement', 'would', 'give', 'countries', 'more', 'leverage', 'over', 'their', 'own', 'resources', 'allowing', 'them', 'to', 'protect', 'those', 'most', 'in', 'need', 'multilateralism', 'would', 'be', 'in', 'every', 'country', '’', 's', 'interest', 'there', 'are', 'encouraging', 'signs', 'that', 'the', 'political', 'taboo', 'against', 'taxation', 'is', 'weakening', 'the', 'text', 'agreed', 'by', 'all', 'parties', 'at', 'cop28', 'explicitly', 'called', '“', 'for', 'accelerating', 'the', 'ongoing', 'establishment', 'of', 'new', 'and', 'innovative', 'sources', 'of', 'finance', 'including', 'taxation', '”', 'and', 'last', 'november', 'un', 'member', 'states', 'passed', 'a', 'resolution', 'to', 'establish', 'a', 'framework', 'convention', 'on', 'international', 'tax', 'cooperation', 'paving', 'the', 'way', 'for', 'a', 'fairer', 'approach', 'to', 'setting', 'global', 'rules', 'now', 'the', 'g20', 'led', 'by', 'brazil', 'is', 'considering', 'a', 'global', 'minimum', 'tax', 'on', 'the', 'world', '’', 's', '3000', 'billionaires', 'who', 'currently', 'pay', 'a', 'much', 'lower', 'effective', 'tax', 'rate', 'than', 'the', 'rest', 'of', 'the', 'population', 'the', 'eu', 'tax', 'observatory', 'estimates', 'that', 'a', '2', 'annual', 'levy', 'on', 'their', 'wealth', '–', 'if', 'properly', 'coordinated', '–', 'could', 'raise', '250', 'billion', 'per', 'year', 'capitalizing', 'on', 'this', 'momentum', 'a', 'diverse', 'group', 'of', 'countries', 'has', 'launched', 'a', 'new', 'international', 'tax', 'taskforce', 'chaired', 'jointly', 'by', 'the', 'leaders', 'of', 'kenya', 'barbados', 'and', 'france', 'its', 'mandate', 'is', 'to', 'explore', 'tax', 'policies', 'that', 'could', 'raise', 'the', 'equivalent', 'of', 'at', 'least', '01', 'of', 'global', 'gdp', 'to', 'finance', 'sustainable', 'development', 'and', 'climate', 'action', 'the', 'point', 'is', 'not', 'to', 'prescribe', 'a', 'single', 'solution', 'for', 'all', 'countries', 'but', 'rather', 'to', 'assess', 'the', 'political', 'and', 'technical', 'obstacles', 'to', 'many', 'plausible', 'options', 'drawing', 'on', 'a', 'diverse', 'range', 'of', 'experts', 'and', 'perspectives', 'many', 'options', 'are', 'on', 'the', 'table', 'including', 'taxes', 'on', 'aviation', 'and', 'shipping', 'in', 'addition', 'to', 'fossilfuel', 'extraction', 'and', 'financial', 'transactions', 'the', 'taskforce', 'will', 'seek', 'to', 'advance', 'our', 'understanding', 'of', 'how', 'such', 'taxes', 'could', 'be', 'applied', 'equitably', 'perhaps', 'paving', 'the', 'way', 'for', 'an', 'agreement', 'on', 'particular', 'policies', 'fair', 'taxation', 'could', 'be', 'a', 'powerful', 'lever', 'for', 'accelerating', 'a', 'just', 'transition', 'by', 'contributing', 'fresh', 'empirical', 'findings', 'and', 'fostering', 'trust', 'and', 'cooperation', 'between', 'countries', 'the', 'new', 'taskforce', 'can', 'help', 'everyone', 'to', 'address', 'the', 'injustices', 'at', 'the', 'heart', 'of', 'the', 'climate', 'crisis', 'and', 'unlock', 'the', 'resources', 'they', 'need', 'to', 'address', 'it', 'reducing', 'the', 'burden', 'on', 'poorer', 'people', 'and', 'countries', 'is', 'not', 'just', 'a', 'moral', 'obligation', 'it', 'is', 'also', 'necessary', 'to', 'win', 'their', 'support', 'for', 'a', 'transition', 'that', 'can', 'not', 'happen', 'without', 'them']\n"
     ]
    }
   ],
   "source": [
    "#create a function to return lower case words\n",
    "def LemNormalize(text):\n",
    "    return nltk.word_tokenize(text.lower().translate(remove_punct_dict))\n",
    "print(LemNormalize(text))"
   ]
  },
  {
   "cell_type": "code",
   "execution_count": 15,
   "id": "e8746270",
   "metadata": {},
   "outputs": [],
   "source": [
    "#keywords for greetings\n",
    "greeting_input=[\"hi\",\"hello\",\"hey\",\"hola\"]\n",
    "greeting_response=[\"howdy\",\"hey there\",\"hi\",\"hello :)\"]\n",
    "def greeting(sentence):\n",
    "    for word in sentence.split():\n",
    "        if word.lower() is greeting_input:\n",
    "            return random.choice(greeting_response)"
   ]
  },
  {
   "cell_type": "code",
   "execution_count": 16,
   "id": "0e65bc54",
   "metadata": {},
   "outputs": [],
   "source": [
    "def response(user_response):\n",
    " #user response and robo responce\n",
    "  #user_response=\"WHat is chronic disease\"\n",
    "  user_response=user_response.lower()\n",
    "  #print(user_response)\n",
    "  #robo response\n",
    "  robo_response=''\n",
    "  sent_tokens.append(user_response)\n",
    "  #print(sent_tokens)\n",
    "  tfidfvec=TfidfVectorizer(tokenizer=LemNormalize , stop_words='english')\n",
    "  tfidf=tfidfvec.fit_transform(sent_tokens)\n",
    "  #print(tfidf)\n",
    "  #get similarity score\n",
    "  val=cosine_similarity(tfidf[-1],tfidf)\n",
    "  #print(val)\n",
    "  idx=val.argsort()[0][-2]\n",
    "  flat=val.flatten()\n",
    "  flat.sort()\n",
    "  score=flat[-2]\n",
    "  #print(score)\n",
    "  if score==0:\n",
    "    robo_response=robo_response+\"sorry,i dont understand\"\n",
    "  else:\n",
    "    robo_response=robo_response+sent_tokens[idx]\n",
    "\n",
    "  sent_tokens.remove(user_response)\n",
    "  return robo_response"
   ]
  },
  {
   "cell_type": "code",
   "execution_count": null,
   "id": "aa619ef3",
   "metadata": {},
   "outputs": [
    {
     "name": "stdout",
     "output_type": "stream",
     "text": [
      "hello!!! this is Siri,i can answer your queris related to light ,type bye to exit\n",
      "Pooji:how are you?\n",
      "Siri:sorry,i dont understand\n",
      "Pooji:what is taxation\n",
      "Siri:There are encouraging signs that the political taboo against taxation is weakening.\n",
      "Pooji:what is needed to mobilize public funding for climate-change mitigation and adaptation?\n",
      "Siri:Bold new policies are needed to mobilize public funding for climate-change mitigation and adaptation, and there is a strong case for progressive taxes on carbon-intensive activities and extreme wealth.\n",
      "Pooji:what is the article about?\n",
      "Siri:sorry,i dont understand\n",
      "Pooji:what is fair taxation?\n",
      "Siri:Fair taxation could be a powerful lever for accelerating a just transition.\n"
     ]
    }
   ],
   "source": [
    "greeting_input=[\"hi\",\"hello\",\"hey\",\"hola\"]\n",
    "greeting_response=[\"howdy\",\"hey there\",\"hi\",\"hello :)\"]\n",
    "def greeting(sentence):\n",
    "  for word in sentence.split():\n",
    "    if word.lower() in greeting_input:\n",
    "      return random.choice(greeting_response)\n",
    "flag=True\n",
    "print(\"hello!!! this is Siri,i can answer your queris related to light ,type bye to exit\")\n",
    "while(flag==True):\n",
    "  user_response=input(\"Pooji:\")\n",
    "  #user_response=user_response.lower()\n",
    "  if(user_response!='bye'):\n",
    "    if(user_response=='thanks' or user_response=='thank you'):\n",
    "      flag=False\n",
    "      print(\"Siri: anytime :)\")\n",
    "    else:\n",
    "       if( greeting(user_response) != None):\n",
    "         print(\"Siri: \"+ greeting(user_response))\n",
    "       else:\n",
    "         print(\"Siri:\"+response(user_response))\n",
    "  else:\n",
    "    flag=False\n",
    "    print(\"Siri: see you later :)\")\n",
    "     "
   ]
  },
  {
   "cell_type": "code",
   "execution_count": null,
   "id": "5b3a13bc",
   "metadata": {},
   "outputs": [],
   "source": []
  }
 ],
 "metadata": {
  "kernelspec": {
   "display_name": "Python 3 (ipykernel)",
   "language": "python",
   "name": "python3"
  },
  "language_info": {
   "codemirror_mode": {
    "name": "ipython",
    "version": 3
   },
   "file_extension": ".py",
   "mimetype": "text/x-python",
   "name": "python",
   "nbconvert_exporter": "python",
   "pygments_lexer": "ipython3",
   "version": "3.9.12"
  }
 },
 "nbformat": 4,
 "nbformat_minor": 5
}
